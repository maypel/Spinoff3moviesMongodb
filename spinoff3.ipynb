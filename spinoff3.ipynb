{
 "cells": [
  {
   "cell_type": "markdown",
   "metadata": {},
   "source": [
    "# SPINOFF 3 ***MONGODB*** SCRIPT"
   ]
  },
  {
   "cell_type": "markdown",
   "metadata": {},
   "source": [
    "             "
   ]
  },
  {
   "cell_type": "markdown",
   "metadata": {},
   "source": [
    "###### "
   ]
  },
  {
   "cell_type": "markdown",
   "metadata": {},
   "source": [
    "## **Création de la base de donnée mongodb avec python**"
   ]
  },
  {
   "cell_type": "markdown",
   "metadata": {},
   "source": [
    "Préparation des paquets"
   ]
  },
  {
   "cell_type": "code",
   "execution_count": 3,
   "metadata": {},
   "outputs": [],
   "source": [
    "# Import des pacquets\n",
    "import pymongo\n",
    "import csv\n",
    "import json\n",
    "from pymongo import MongoClient\n",
    "from pathlib import Path"
   ]
  },
  {
   "cell_type": "code",
   "execution_count": 4,
   "metadata": {},
   "outputs": [],
   "source": [
    "# Répertoire dataset\n",
    "repertoire_csv = Path('movies')\n",
    "repertoire_json = Path('moviesj')\n",
    "# Chemin vers les différents fichiers de données\n",
    "chemin_movies = repertoire_csv / 'movies.csv'\n",
    "chemin_links = repertoire_csv / 'links.csv'\n",
    "chemin_ratings = repertoire_csv / 'ratings.csv'\n",
    "chemin_tags = repertoire_csv / 'tags.csv' \n",
    "\n",
    "chemin_moviesj = repertoire_json / 'movies.json'\n",
    "chemin_linksj = repertoire_json / 'links.json'\n",
    "chemin_ratingsj = repertoire_json / 'ratings.json'\n",
    "chemin_tagsj = repertoire_json / 'tags.json'"
   ]
  },
  {
   "cell_type": "markdown",
   "metadata": {},
   "source": [
    "-------------------"
   ]
  },
  {
   "cell_type": "markdown",
   "metadata": {},
   "source": [
    "Connection Mongodb"
   ]
  },
  {
   "cell_type": "code",
   "execution_count": null,
   "metadata": {},
   "outputs": [],
   "source": [
    "# itialisation de la connection avec la fonction MongoClient\n",
    "client = pymongo.MongoClient()"
   ]
  },
  {
   "cell_type": "code",
   "execution_count": null,
   "metadata": {},
   "outputs": [],
   "source": [
    "print(client)"
   ]
  },
  {
   "cell_type": "code",
   "execution_count": null,
   "metadata": {},
   "outputs": [],
   "source": [
    "# création de la BDD mongodb moviesdb\n",
    "mydb = client[\"moviesdb\"]"
   ]
  },
  {
   "cell_type": "code",
   "execution_count": null,
   "metadata": {},
   "outputs": [],
   "source": [
    "# création d'une table/collection movies\n",
    "# initialiser dans une variable\n",
    "collection1 = mydb[\"movies\"]"
   ]
  },
  {
   "cell_type": "code",
   "execution_count": null,
   "metadata": {},
   "outputs": [],
   "source": [
    "data = {\"test\":\"test\"}"
   ]
  },
  {
   "cell_type": "code",
   "execution_count": null,
   "metadata": {},
   "outputs": [],
   "source": [
    "# insertion des données\n",
    "collection1.insert_one(data)"
   ]
  },
  {
   "cell_type": "code",
   "execution_count": null,
   "metadata": {},
   "outputs": [],
   "source": [
    "# effacement des données\n",
    "collection1.delete_one(data)"
   ]
  },
  {
   "cell_type": "markdown",
   "metadata": {},
   "source": [
    "-----------------"
   ]
  },
  {
   "cell_type": "markdown",
   "metadata": {},
   "source": [
    "Conversion des fichiers csv en json"
   ]
  },
  {
   "cell_type": "code",
   "execution_count": null,
   "metadata": {},
   "outputs": [],
   "source": [
    "# j'ouvre un dictionnaire data qui va reuceuillir mes données json\n",
    "data = {}\n",
    "\n",
    "# ouverture et lecture des fichiers csv\n",
    "def ouverture_csv(path_csv):\n",
    "    with open(path_csv, 'r', newline='', encoding='utf-8') as csvfile:\n",
    "        reader = csv.DictReader(csvfile)\n",
    "        for rows in reader:\n",
    "            id = rows['movieId']\n",
    "            data[id] = rows\n",
    "        return data\n",
    "\n",
    "# création d'un fichier json\n",
    "def convert_to_json(path_json):\n",
    "    with open(path_json, 'w') as jsonfile:\n",
    "        # insertion des données dans le fichier json\n",
    "        jsonfile.write(json.dumps(data, indent=4))\n",
    "        \"\"\"les résultats apparaissent comme une ligne unique, d'où le indent=4\"\"\"\n",
    "        return data\n",
    "    "
   ]
  },
  {
   "cell_type": "code",
   "execution_count": null,
   "metadata": {},
   "outputs": [],
   "source": [
    "path_csv = chemin_movies\n",
    "path_json = chemin_moviesj\n",
    "ouverture_csv(path_csv)\n",
    "convert_to_json(path_json)"
   ]
  },
  {
   "cell_type": "code",
   "execution_count": null,
   "metadata": {},
   "outputs": [],
   "source": [
    "# insertion des données json, ils apparaissent comme\n",
    "# une longue ligne \n",
    "collection1.insert_one(data)"
   ]
  },
  {
   "cell_type": "markdown",
   "metadata": {},
   "source": [
    "-------------------"
   ]
  },
  {
   "cell_type": "markdown",
   "metadata": {},
   "source": [
    "Insertion direct fichier csv"
   ]
  },
  {
   "cell_type": "code",
   "execution_count": 1,
   "metadata": {},
   "outputs": [],
   "source": [
    "# j'ouvre une liste vide data qui va reuceuillir mes données json\n",
    "data = []\n",
    "\n",
    "# ouverture et lecture des fichiers csv\n",
    "def ouverture_csv(path_csv):\n",
    "    with open(path_csv, 'r', newline='', encoding='utf-8') as csvfile:\n",
    "        reader = csv.DictReader(csvfile)\n",
    "        # insertion des données csv dans la liste\n",
    "        for rows in reader:\n",
    "            data.append(rows)\n",
    "            \n"
   ]
  },
  {
   "cell_type": "code",
   "execution_count": 7,
   "metadata": {},
   "outputs": [],
   "source": [
    "# connection à mongodb\n",
    "client = pymongo.MongoClient()"
   ]
  },
  {
   "cell_type": "code",
   "execution_count": 8,
   "metadata": {},
   "outputs": [],
   "source": [
    "# connection à ma database\n",
    "mydb = client[\"moviesdb\"]"
   ]
  },
  {
   "cell_type": "code",
   "execution_count": 11,
   "metadata": {},
   "outputs": [],
   "source": [
    "collection2 = mydb[\"ratings\"]"
   ]
  },
  {
   "cell_type": "code",
   "execution_count": 12,
   "metadata": {},
   "outputs": [],
   "source": [
    "path_csv = chemin_ratings\n",
    "ouverture_csv(path_csv)"
   ]
  },
  {
   "cell_type": "code",
   "execution_count": 13,
   "metadata": {},
   "outputs": [
    {
     "data": {
      "text/plain": [
       "<pymongo.results.InsertManyResult at 0x2685ce01a00>"
      ]
     },
     "execution_count": 13,
     "metadata": {},
     "output_type": "execute_result"
    }
   ],
   "source": [
    "# insertion des données de la liste data dans\n",
    "# la base de donnée moviesdb\n",
    "collection2.insert_many(data)"
   ]
  },
  {
   "cell_type": "code",
   "execution_count": null,
   "metadata": {},
   "outputs": [],
   "source": []
  }
 ],
 "metadata": {
  "kernelspec": {
   "display_name": "Python 3",
   "language": "python",
   "name": "python3"
  },
  "language_info": {
   "codemirror_mode": {
    "name": "ipython",
    "version": 3
   },
   "file_extension": ".py",
   "mimetype": "text/x-python",
   "name": "python",
   "nbconvert_exporter": "python",
   "pygments_lexer": "ipython3",
   "version": "3.8.6"
  }
 },
 "nbformat": 4,
 "nbformat_minor": 4
}
